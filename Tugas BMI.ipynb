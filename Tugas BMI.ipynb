{
 "cells": [
  {
   "cell_type": "code",
   "execution_count": 1,
   "metadata": {},
   "outputs": [
    {
     "name": "stdout",
     "output_type": "stream",
     "text": [
      "17.301038062283737\n",
      "Underweight\n"
     ]
    }
   ],
   "source": [
    "berat_badan = 50 #dalam KG\n",
    "tinggi_badan = 1.70 #dalam CM\n",
    "BMI = berat_badan / tinggi_badan**2\n",
    "print(BMI)\n",
    "if BMI < 15:\n",
    "    print(\"Very severely underweight\")\n",
    "if BMI > 15 and BMI < 16:\n",
    "    print(\"Severely underweight\")\n",
    "if BMI > 16 and BMI < 18.5:\n",
    "    print(\"Underweight\")\n",
    "if BMI > 18.5 and BMI < 25:\n",
    "    print(\"Normal (healthy weight)\")\n",
    "if BMI > 25 and BMI < 30:\n",
    "    print(\"Overweight\")\n",
    "if BMI > 30 and BMI < 35:\n",
    "    print(\"Moderately obese\")\n",
    "if BMI > 35 and BMI < 40:\n",
    "    print(\"Severly obese\")\n",
    "if BMI > 40:\n",
    "    print(\"Very severely obese\")\n"
   ]
  },
  {
   "cell_type": "code",
   "execution_count": null,
   "metadata": {},
   "outputs": [],
   "source": []
  }
 ],
 "metadata": {
  "kernelspec": {
   "display_name": "Python 3",
   "language": "python",
   "name": "python3"
  },
  "language_info": {
   "codemirror_mode": {
    "name": "ipython",
    "version": 3
   },
   "file_extension": ".py",
   "mimetype": "text/x-python",
   "name": "python",
   "nbconvert_exporter": "python",
   "pygments_lexer": "ipython3",
   "version": "3.6.5"
  }
 },
 "nbformat": 4,
 "nbformat_minor": 2
}
