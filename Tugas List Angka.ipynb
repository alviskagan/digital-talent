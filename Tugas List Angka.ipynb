{
 "cells": [
  {
   "cell_type": "markdown",
   "metadata": {},
   "source": [
    "# LATIHAN 2 - Tugas List Nilai\n",
    "\n",
    "Diberikan sekumpulan Nilai Random antara 0 sampai dengan 100 sebanyak 250 nilai. Buatlah program untuk melakukan hal berikut:\n",
    "1. Tampilkan Angka Ganjil dari ke 250 nilai tersebut\n",
    "2. Tampilkan berapa banyak yang mendapatkan nilai lebih dari 70\n",
    "3. Tampilkan standar deviasi dari sekumpulan nilai tersebut\n",
    "4. Tampilkan nilai maksimum dan minimum\n",
    "5. Tampilkan modus dari sekumpulan nilai tersebut"
   ]
  },
  {
   "cell_type": "code",
   "execution_count": 103,
   "metadata": {},
   "outputs": [
    {
     "name": "stdout",
     "output_type": "stream",
     "text": [
      "[33, 7, 86, 38, 41, 39, 81, 38, 83, 63, 94, 64, 63, 84, 46, 23, 41, 2, 94, 9, 97, 32, 93, 69, 50, 80, 70, 22, 11, 96, 70, 82, 63, 65, 37, 8, 89, 55, 74, 62, 6, 73, 6, 26, 93, 2, 57, 2, 20, 10, 22, 94, 89, 47, 90, 99, 49, 38, 77, 53, 42, 38, 64, 11, 8, 59, 56, 90, 65, 4, 3, 69, 49, 73, 23, 20, 59, 70, 83, 2, 27, 35, 10, 85, 26, 24, 32, 41, 2, 68, 58, 37, 72, 64, 42, 26, 84, 7, 48, 64, 61, 54, 50, 48, 2, 61, 87, 28, 1, 21, 50, 75, 65, 12, 77, 10, 75, 73, 58, 37, 31, 86, 15, 19, 14, 68, 99, 80, 95, 11, 76, 60, 63, 94, 57, 16, 2, 56, 5, 91, 42, 73, 55, 10, 95, 8, 66, 84, 6, 69, 20, 13, 83, 4, 20, 34, 5, 37, 42, 10, 6, 30, 32, 55, 4, 32, 74, 78, 69, 60, 3, 5, 31, 90, 10, 62, 45, 19, 41, 73, 54, 24, 15, 77, 9, 26, 35, 92, 36, 78, 13, 41, 41, 20, 78, 18, 16, 69, 86, 33, 35, 1, 91, 20, 78, 99, 15, 77, 3, 45, 81, 81, 35, 73, 54, 23, 5, 20, 73, 35, 68, 79, 29, 63, 33, 56, 86, 45, 92, 55, 89, 88, 64, 22, 46, 31, 98, 18, 48, 6, 64, 45, 68, 17, 57, 63, 76, 34, 57, 78]\n",
      "48.02\n",
      "99\n",
      "1\n",
      "[2, 73, 20]\n"
     ]
    }
   ],
   "source": [
    "import random, operator\n",
    "from math import pow, sqrt\n",
    "# GENERATE RANDOM\n",
    "nilaiTugas = []\n",
    "for i in range(250):\n",
    "    nilaiTugas.append(random.randrange(1,100,1))\n",
    "\n",
    "print(nilaiTugas)\n",
    "\n",
    "# TAMPILKAN:\n",
    "# ganjil\n",
    "nilai_ganjil = []\n",
    "for n in nilaiTugas:\n",
    "    if n%2 == 1:\n",
    "        nilai_ganjil.append(n)\n",
    "#print(nilai_ganjil)\n",
    "\n",
    "# nilai > 70\n",
    "lebih_70 = []\n",
    "for n in nilaiTugas:\n",
    "    if n > 70:\n",
    "        lebih_70.append(n)\n",
    "#print(lebih_70)\n",
    "\n",
    "# standar deviasi\n",
    "nilai_rata = 0\n",
    "total = 0\n",
    "nilai_atas = 0\n",
    "for n in nilaiTugas:\n",
    "    total += n\n",
    "\n",
    "nilai_rata = total/len(nilaiTugas)\n",
    "print(nilai_rata)\n",
    "\n",
    "for n in nilaiTugas:\n",
    "    x = n - nilai_rata\n",
    "    nilai_atas += pow(x,2)\n",
    "\n",
    "nilai_stdf = sqrt(nilai_atas/(len(nilaiTugas)-1))\n",
    "#print(nilai_stdf)\n",
    "\n",
    "# maksimum\n",
    "nilai_maks = nilaiTugas[0]\n",
    "for n in nilaiTugas:\n",
    "    if n > nilai_maks:\n",
    "        nilai_maks = n\n",
    "print(nilai_maks)\n",
    "\n",
    "# minimum\n",
    "nilai_min = nilaiTugas[0]\n",
    "for n in nilaiTugas:\n",
    "    if n < nilai_min:\n",
    "        nilai_min = n\n",
    "print(nilai_min)\n",
    "\n",
    "# modus\n",
    "angka = {}\n",
    "for n in nilaiTugas:\n",
    "    if n not in angka:\n",
    "        angka[n] = 1\n",
    "    else:\n",
    "        angka[n] = angka[n] + 1\n",
    "\n",
    "count = 0\n",
    "for key in angka:\n",
    "    if angka[key] > count:\n",
    "        count = angka[key]\n",
    "\n",
    "modus = []\n",
    "for key in angka:\n",
    "    if angka[key] == count:\n",
    "        modus.append(key)\n",
    "\n",
    "print(modus)\n",
    "\n",
    "#cek = {}\n",
    "#for n in nilaiTugas:\n",
    "#   cek[n] = nilaiTugas.count(n)\n",
    "    \n",
    "#print(cek)\n"
   ]
  },
  {
   "cell_type": "markdown",
   "metadata": {},
   "source": [
    "# Hasil Akhir"
   ]
  },
  {
   "cell_type": "code",
   "execution_count": 119,
   "metadata": {},
   "outputs": [
    {
     "name": "stdout",
     "output_type": "stream",
     "text": [
      "1. Hasil Angka Ganjil:\n",
      " [1, 1, 3, 3, 3, 5, 5, 5, 5, 7, 7, 9, 9, 11, 11, 11, 13, 13, 15, 15, 15, 17, 19, 19, 21, 23, 23, 23, 27, 29, 31, 31, 31, 33, 33, 33, 35, 35, 35, 35, 35, 37, 37, 37, 37, 39, 41, 41, 41, 41, 41, 41, 45, 45, 45, 45, 47, 49, 49, 53, 55, 55, 55, 55, 57, 57, 57, 57, 59, 59, 61, 61, 63, 63, 63, 63, 63, 63, 65, 65, 65, 69, 69, 69, 69, 69, 73, 73, 73, 73, 73, 73, 73, 75, 75, 77, 77, 77, 77, 79, 81, 81, 81, 83, 83, 83, 85, 87, 89, 89, 89, 91, 91, 93, 93, 95, 95, 97, 99, 99, 99]\n",
      "2. Hasil Nilai > 70:\n",
      " [72, 73, 73, 73, 73, 73, 73, 73, 74, 74, 75, 75, 76, 76, 77, 77, 77, 77, 78, 78, 78, 78, 78, 79, 80, 80, 81, 81, 81, 82, 83, 83, 83, 84, 84, 84, 85, 86, 86, 86, 86, 87, 88, 89, 89, 89, 90, 90, 90, 91, 91, 92, 92, 93, 93, 94, 94, 94, 94, 95, 95, 96, 97, 98, 99, 99, 99]\n",
      "3. Hasil Standard Deviasi:\n",
      " 29.043997921447467\n",
      "4. Hasil Nilai Maksimum dan Minumum:\n",
      "-Nilai Maksimum:  99\n",
      "-Nilai Minimum:  1\n",
      "5. Hasil Modus:\n",
      " [2, 73, 20]\n"
     ]
    }
   ],
   "source": [
    "nilai_ganjil.sort()\n",
    "lebih_70.sort()\n",
    "print(\"1. Hasil Angka Ganjil:\\n\", nilai_ganjil )\n",
    "print(\"2. Hasil Nilai > 70:\\n\", lebih_70)\n",
    "print(\"3. Hasil Standard Deviasi:\\n\", nilai_stdf)\n",
    "print(\"4. Hasil Nilai Maksimum dan Minumum:\")\n",
    "print(\"-Nilai Maksimum: \", nilai_maks)\n",
    "print(\"-Nilai Minimum: \", nilai_min)\n",
    "print(\"5. Hasil Modus:\\n\", modus)"
   ]
  },
  {
   "cell_type": "code",
   "execution_count": null,
   "metadata": {},
   "outputs": [],
   "source": []
  }
 ],
 "metadata": {
  "kernelspec": {
   "display_name": "Python 3",
   "language": "python",
   "name": "python3"
  },
  "language_info": {
   "codemirror_mode": {
    "name": "ipython",
    "version": 3
   },
   "file_extension": ".py",
   "mimetype": "text/x-python",
   "name": "python",
   "nbconvert_exporter": "python",
   "pygments_lexer": "ipython3",
   "version": "3.6.5"
  }
 },
 "nbformat": 4,
 "nbformat_minor": 2
}
