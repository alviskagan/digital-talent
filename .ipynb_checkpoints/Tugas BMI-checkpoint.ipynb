{
 "cells": [
  {
   "cell_type": "markdown",
   "metadata": {},
   "source": [
    "# Tugas BMI\n",
    "Body Mass Index (BMI) menentukan sebuah keidealan berat badan terhadap tinggi badan. Berikut adalah formula dari BMI : BMI = weight (kg) ÷ height^2 (m^2)\n",
    "\n",
    "Berikut adalah kategorisasi BMI:\n",
    "\n",
    "| BMI                 | Kategori BMI             |   |\n",
    "|---------------------|---------------------------|---|\n",
    "| Kurang dari 15        | Very severely underweight |   |\n",
    "| Diantara 15 dan 16   | Severely underweight      |   |\n",
    "| Diantara 16 dan 18.5 | Underweight               |   |\n",
    "| Diantara 18.5 dan 25 | Normal (healthy weight)   |   |\n",
    "| Diantara 25 dan 30   | Overweight                |   |\n",
    "| Diantara 30 dan 35   | Moderately obese          |   |\n",
    "| Diantara 35 dan 40   | Severely obese            |   |\n",
    "| Over 40             | Very severely obese       |   |\n",
    "\n",
    "Buatlah sebuah program yang memiliki dua variabel berat badan dengan satuan KG, dan tinggi badan dengan satuan CM, kemudian keluaran dari program adalah Kategori BMI"
   ]
  },
  {
   "cell_type": "code",
   "execution_count": 3,
   "metadata": {},
   "outputs": [
    {
     "name": "stdout",
     "output_type": "stream",
     "text": [
      "18.68512110726644\n",
      "Normal (healthy weight)\n"
     ]
    }
   ],
   "source": [
    "# Dalam KG(Kilogram)\n",
    "berat_badan = 54 \n",
    "# Dalam CM(Centimeter)\n",
    "tinggi_badan = 1.70 \n",
    "BMI = berat_badan / tinggi_badan**2\n",
    "print(BMI)\n",
    "if BMI < 15:\n",
    "    print(\"Very severely underweight\")\n",
    "elif BMI > 15 and BMI < 16:\n",
    "    print(\"Severely underweight\")\n",
    "elif BMI > 16 and BMI < 18.5:\n",
    "    print(\"Underweight\")\n",
    "elif BMI > 18.5 and BMI < 25:\n",
    "    print(\"Normal (healthy weight)\")\n",
    "elif BMI > 25 and BMI < 30:\n",
    "    print(\"Overweight\")\n",
    "elif BMI > 30 and BMI < 35:\n",
    "    print(\"Moderately obese\")\n",
    "elif BMI > 35 and BMI < 40:\n",
    "    print(\"Severly obese\")\n",
    "elif BMI > 40:\n",
    "    print(\"Very severely obese\")\n"
   ]
  },
  {
   "cell_type": "code",
   "execution_count": null,
   "metadata": {},
   "outputs": [],
   "source": []
  }
 ],
 "metadata": {
  "kernelspec": {
   "display_name": "Python 3",
   "language": "python",
   "name": "python3"
  },
  "language_info": {
   "codemirror_mode": {
    "name": "ipython",
    "version": 3
   },
   "file_extension": ".py",
   "mimetype": "text/x-python",
   "name": "python",
   "nbconvert_exporter": "python",
   "pygments_lexer": "ipython3",
   "version": "3.6.5"
  }
 },
 "nbformat": 4,
 "nbformat_minor": 2
}
